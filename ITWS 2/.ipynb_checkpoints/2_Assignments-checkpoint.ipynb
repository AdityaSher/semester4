{
 "cells": [
  {
   "cell_type": "markdown",
   "metadata": {},
   "source": [
    "##  Q1 WAP to check if given character is vowel or not"
   ]
  },
  {
   "cell_type": "code",
   "execution_count": 11,
   "metadata": {
    "collapsed": false
   },
   "outputs": [
    {
     "name": "stdout",
     "output_type": "stream",
     "text": [
      "Enter a character ae\n",
      "The character you have entered is not a Vowel\n"
     ]
    }
   ],
   "source": [
    "vowels=['a','e','i','o','u','A','E','I','O','U']\n",
    "ip_char=input(\"Enter a character \")\n",
    "\n",
    "#how will I find whether entered character is single or not?\n",
    "\n",
    "if ip_char in vowels:\n",
    "    print(\"The character you have entered is a vowel\")\n",
    "else:\n",
    "    print('The character you have entered is not a Vowel')"
   ]
  },
  {
   "cell_type": "code",
   "execution_count": null,
   "metadata": {
    "collapsed": true
   },
   "outputs": [],
   "source": []
  },
  {
   "cell_type": "markdown",
   "metadata": {},
   "source": [
    "##  Q2 WAP to check if number is less than 5, if yes then print its square"
   ]
  },
  {
   "cell_type": "code",
   "execution_count": 21,
   "metadata": {
    "collapsed": false
   },
   "outputs": [
    {
     "name": "stdout",
     "output_type": "stream",
     "text": [
      "Please enter number, we will print its square if its less than 5: 3\n",
      "Entered Number is less than 5 and its square is  9\n"
     ]
    }
   ],
   "source": [
    "ip_no=int(input(\"Please enter number, we will print its square if its less than 5: \"))\n",
    "\n",
    "if ip_no<5:\n",
    "    print(\"Entered Number is less than 5 and its square is \",ip_no**2)\n",
    "elif ip_no==5:\n",
    "    print(\"Entered Number is equal to 5\")\n",
    "elif ip_no>5:\n",
    "    print(\"Entered Number is more than 5\")\n",
    "    \n",
    "#how to detect whether input is char and ask again for input    "
   ]
  },
  {
   "cell_type": "code",
   "execution_count": null,
   "metadata": {
    "collapsed": true
   },
   "outputs": [],
   "source": []
  },
  {
   "cell_type": "markdown",
   "metadata": {},
   "source": [
    "##  Q3 WAP to check if number is divisible by 10"
   ]
  },
  {
   "cell_type": "code",
   "execution_count": 25,
   "metadata": {
    "collapsed": false
   },
   "outputs": [
    {
     "name": "stdout",
     "output_type": "stream",
     "text": [
      "Enter number to check whether its divisible by 10: 0\n",
      "Entered Number is divisible by 10\n"
     ]
    }
   ],
   "source": [
    "ip_no=int(input('Enter number to check whether its divisible by 10: '))\n",
    "\n",
    "if(ip_no%10==0):\n",
    "    print('Entered Number is divisible by 10')\n",
    "elif(ip_no%10!=0):\n",
    "    print('Entered Number is not divisible by 10')"
   ]
  },
  {
   "cell_type": "code",
   "execution_count": null,
   "metadata": {
    "collapsed": true
   },
   "outputs": [],
   "source": []
  },
  {
   "cell_type": "markdown",
   "metadata": {},
   "source": [
    "##  Q4 WAP to check if given character is upper case or lower case"
   ]
  },
  {
   "cell_type": "code",
   "execution_count": 30,
   "metadata": {
    "collapsed": false
   },
   "outputs": [
    {
     "name": "stdout",
     "output_type": "stream",
     "text": [
      "Please enter a character and we will tell you whether its uppercase or lowercase: 1\n",
      "Please enter a character we don't accept characters\n"
     ]
    }
   ],
   "source": [
    "ip_char=input('Please enter a character and we will tell you whether its uppercase or lowercase: ')\n",
    "\n",
    "#we use str.islower method to detect whether character is in lower case or not\n",
    "lowerOrNot=str.islower(ip_char)\n",
    "digitOrNot=str.isdigit(ip_char)\n",
    "\n",
    "if digitOrNot==1:\n",
    "    print(\"Please enter a character we don't accept numbers\")\n",
    "\n",
    "else:\n",
    "    if(lowerOrNot==1):\n",
    "        print('Entered character is in Lower case')\n",
    "    elif(lowerOrNot==0):\n",
    "        print('Entered character is in Upper case')\n",
    "    \n",
    "#Detects numbers as uppercase why?= Use isdigit to remove this case    "
   ]
  },
  {
   "cell_type": "code",
   "execution_count": null,
   "metadata": {
    "collapsed": true
   },
   "outputs": [],
   "source": []
  },
  {
   "cell_type": "markdown",
   "metadata": {},
   "source": [
    "##  Q5 WAP to check if given character is digit or not"
   ]
  },
  {
   "cell_type": "code",
   "execution_count": 33,
   "metadata": {
    "collapsed": false
   },
   "outputs": [
    {
     "name": "stdout",
     "output_type": "stream",
     "text": [
      "Please enter a character and we will tell you whether its a digit or not: a\n",
      "The character you have entered is NOT a digit\n"
     ]
    }
   ],
   "source": [
    "input_char=input('Please enter a character and we will tell you whether its a digit or not: ')\n",
    "\n",
    "#we use str.islower method to detect whether character is in lower case or not\n",
    "\n",
    "digitOrNot=str.isdigit(input_char)\n",
    "\n",
    "if digitOrNot==1:\n",
    "    print(\"The character you have entered is a digit\")\n",
    "elif digitOrNot==0:\n",
    "    print(\"The character you have entered is NOT a digit\")\n",
    "\n"
   ]
  },
  {
   "cell_type": "code",
   "execution_count": null,
   "metadata": {
    "collapsed": true
   },
   "outputs": [],
   "source": []
  },
  {
   "cell_type": "markdown",
   "metadata": {},
   "source": [
    "##  Q6 WAP to print greatest number between given four numbers"
   ]
  },
  {
   "cell_type": "code",
   "execution_count": 41,
   "metadata": {
    "collapsed": false
   },
   "outputs": [
    {
     "name": "stdout",
     "output_type": "stream",
     "text": [
      "Enter number 1: 4\n",
      "Enter number 2: 8\n",
      "Enter number 3: 9\n",
      "Enter number 4: 2\n",
      "Number 3 that is: 9 , is the largest of all\n"
     ]
    }
   ],
   "source": [
    "a=int(input('Enter number 1: '))\n",
    "b=int(input('Enter number 2: '))\n",
    "c=int(input('Enter number 3: '))\n",
    "d=int(input('Enter number 4: '))\n",
    "\n",
    "if(a>b and a>c and a>d):\n",
    "    print(\"Number 1 that is:\", a,\", is the largest of all\")\n",
    "elif(b>a and b>c and b>d):\n",
    "    print(\"Number 2 that is:\", b,\", is the largest of all\")\n",
    "elif(c>a and c>b and c>d):\n",
    "    print(\"Number 3 that is:\", c,\", is the largest of all\")\n",
    "elif(d>a and d>b and d>c):\n",
    "    print(\"Number 4 that is:\", d,\", is the largest of all\")\n",
    "\n"
   ]
  },
  {
   "cell_type": "code",
   "execution_count": null,
   "metadata": {
    "collapsed": true
   },
   "outputs": [],
   "source": []
  },
  {
   "cell_type": "markdown",
   "metadata": {},
   "source": [
    "# LOOP Statements"
   ]
  },
  {
   "cell_type": "code",
   "execution_count": null,
   "metadata": {
    "collapsed": true
   },
   "outputs": [],
   "source": []
  },
  {
   "cell_type": "markdown",
   "metadata": {},
   "source": [
    "## Q1 WAP to count number of digits in any number."
   ]
  },
  {
   "cell_type": "code",
   "execution_count": 52,
   "metadata": {
    "collapsed": false
   },
   "outputs": [
    {
     "name": "stdout",
     "output_type": "stream",
     "text": [
      "Enter a number and we will tell you the number of digits in the number: 10\n",
      "test\n",
      "The number of digits in the number is:  3\n"
     ]
    }
   ],
   "source": [
    "num=int(input('Enter a number and we will tell you the number of digits in the number: '))\n",
    "\n",
    "cmp=10\n",
    "count=0\n",
    "while(num>=cmp):\n",
    "    cmp=cmp**10\n",
    "    print('test')\n",
    "    count+=1\n",
    "print(\"The number of digits in the number is: \",count)"
   ]
  },
  {
   "cell_type": "code",
   "execution_count": null,
   "metadata": {
    "collapsed": true
   },
   "outputs": [],
   "source": []
  },
  {
   "cell_type": "code",
   "execution_count": null,
   "metadata": {
    "collapsed": true
   },
   "outputs": [],
   "source": []
  }
 ],
 "metadata": {
  "kernelspec": {
   "display_name": "Python 3",
   "language": "python",
   "name": "python3"
  },
  "language_info": {
   "codemirror_mode": {
    "name": "ipython",
    "version": 3
   },
   "file_extension": ".py",
   "mimetype": "text/x-python",
   "name": "python",
   "nbconvert_exporter": "python",
   "pygments_lexer": "ipython3",
   "version": "3.6.0"
  }
 },
 "nbformat": 4,
 "nbformat_minor": 2
}
