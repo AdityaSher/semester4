{
 "cells": [
  {
   "cell_type": "markdown",
   "metadata": {},
   "source": [
    "# Functions\n",
    "\n",
    "- Defined by def \n",
    "\n"
   ]
  },
  {
   "cell_type": "code",
   "execution_count": 1,
   "metadata": {
    "collapsed": false
   },
   "outputs": [
    {
     "name": "stdout",
     "output_type": "stream",
     "text": [
      "Hello\n",
      "This is first Program\n",
      "Hello\n",
      "This is first Program\n"
     ]
    }
   ],
   "source": [
    "def f1():\n",
    "    print(\"Hello\")\n",
    "    print(\"This is first Program\")\n",
    "\n",
    "f1()\n",
    "f1()"
   ]
  },
  {
   "cell_type": "markdown",
   "metadata": {},
   "source": [
    "#### Print fxn using range fxn"
   ]
  },
  {
   "cell_type": "code",
   "execution_count": 3,
   "metadata": {
    "collapsed": false
   },
   "outputs": [
    {
     "name": "stdout",
     "output_type": "stream",
     "text": [
      "Hello\n",
      "This is first Program\n",
      "Hello\n",
      "This is first Program\n",
      "Hello\n",
      "This is first Program\n",
      "Hello\n",
      "This is first Program\n",
      "Hello\n",
      "This is first Program\n"
     ]
    }
   ],
   "source": [
    "for i in range(5):\n",
    "    f1()"
   ]
  },
  {
   "cell_type": "code",
   "execution_count": null,
   "metadata": {
    "collapsed": true
   },
   "outputs": [],
   "source": []
  },
  {
   "cell_type": "markdown",
   "metadata": {},
   "source": [
    "#### Call f1() and f2() which will be called when we have even or odd numbers from given range() function"
   ]
  },
  {
   "cell_type": "code",
   "execution_count": 9,
   "metadata": {
    "collapsed": false
   },
   "outputs": [
    {
     "name": "stdout",
     "output_type": "stream",
     "text": [
      "Enter number: 44\n",
      "Even\n"
     ]
    }
   ],
   "source": [
    "def f1():\n",
    "    print(\"Even\")\n",
    "def f2():\n",
    "    print(\"Odd\")\n",
    "    \n",
    "if (int(input(\"Enter number: \"))%2==0):\n",
    "    f1()\n",
    "else:\n",
    "    f2()"
   ]
  },
  {
   "cell_type": "code",
   "execution_count": 7,
   "metadata": {
    "collapsed": false
   },
   "outputs": [
    {
     "name": "stdout",
     "output_type": "stream",
     "text": [
      "Enter number: 3\n",
      "Odd\n"
     ]
    }
   ],
   "source": [
    "#2nd instance\n",
    "def f1():\n",
    "    print(\"Even\")\n",
    "def f2():\n",
    "    print(\"Odd\")\n",
    "    \n",
    "if (int(input(\"Enter number: \"))%2==0):\n",
    "    f1()\n",
    "else:\n",
    "    f2()"
   ]
  },
  {
   "cell_type": "code",
   "execution_count": null,
   "metadata": {
    "collapsed": true
   },
   "outputs": [],
   "source": []
  },
  {
   "cell_type": "markdown",
   "metadata": {},
   "source": [
    "## Function Parameters and Arguments\n",
    "\n",
    "- Variables during declearation: Parameters\n",
    "- Variables during Passing: Arguments"
   ]
  },
  {
   "cell_type": "code",
   "execution_count": 31,
   "metadata": {
    "collapsed": false
   },
   "outputs": [
    {
     "name": "stdout",
     "output_type": "stream",
     "text": [
      "4  is maximum.\n",
      "9  is maximum.\n",
      "a  is maximum.\n",
      "abcdb  is maximum.\n"
     ]
    }
   ],
   "source": [
    "def print_max(a,b):\n",
    "    if a>b:\n",
    "        print(a,\" is maximum.\")\n",
    "    elif a==b:\n",
    "        print(a,\" is equal to \",b)\n",
    "    else:\n",
    "        print(b, \" is maximum.\")\n",
    "\n",
    "#directly pass literal values\n",
    "print_max(3,4)\n",
    "\n",
    "x=4\n",
    "y=9\n",
    "\n",
    "#pass variable intergers as arguments\n",
    "print_max(x,y)\n",
    "\n",
    "#pass characters\n",
    "print_max(\"a\",\"A\")\n",
    "print_max(\"abcda\",\"abcdb\")\n",
    "\n"
   ]
  },
  {
   "cell_type": "code",
   "execution_count": 32,
   "metadata": {
    "collapsed": false
   },
   "outputs": [
    {
     "ename": "NameError",
     "evalue": "name 'SetA' is not defined",
     "output_type": "error",
     "traceback": [
      "\u001b[0;31m---------------------------------------------------------------------------\u001b[0m",
      "\u001b[0;31mNameError\u001b[0m                                 Traceback (most recent call last)",
      "\u001b[0;32m<ipython-input-32-f74e9bfedffa>\u001b[0m in \u001b[0;36m<module>\u001b[0;34m()\u001b[0m\n\u001b[1;32m      2\u001b[0m \u001b[0msetB\u001b[0m\u001b[1;33m=\u001b[0m\u001b[1;33m{\u001b[0m\u001b[1;36m1\u001b[0m\u001b[1;33m,\u001b[0m\u001b[1;36m3\u001b[0m\u001b[1;33m,\u001b[0m\u001b[1;36m5\u001b[0m\u001b[1;33m,\u001b[0m\u001b[1;36m7\u001b[0m\u001b[1;33m,\u001b[0m\u001b[1;36m8\u001b[0m\u001b[1;33m}\u001b[0m\u001b[1;33m\u001b[0m\u001b[0m\n\u001b[1;32m      3\u001b[0m \u001b[1;33m\u001b[0m\u001b[0m\n\u001b[0;32m----> 4\u001b[0;31m \u001b[0mprint_max\u001b[0m\u001b[1;33m(\u001b[0m\u001b[0mSetA\u001b[0m\u001b[1;33m,\u001b[0m\u001b[0mSetB\u001b[0m\u001b[1;33m)\u001b[0m\u001b[1;33m\u001b[0m\u001b[0m\n\u001b[0m\u001b[1;32m      5\u001b[0m \u001b[1;33m\u001b[0m\u001b[0m\n\u001b[1;32m      6\u001b[0m \u001b[1;31m#Unordered Datatypes like sets or dictionaries cannot be compared\u001b[0m\u001b[1;33m\u001b[0m\u001b[1;33m\u001b[0m\u001b[0m\n",
      "\u001b[0;31mNameError\u001b[0m: name 'SetA' is not defined"
     ]
    }
   ],
   "source": [
    "setA={1,2,3,4,5,100}\n",
    "setB={1,3,5,7,8}\n",
    "\n",
    "print_max(SetA,SetB)\n",
    "\n",
    "#Unordered Datatypes like sets or dictionaries cannot be compared"
   ]
  },
  {
   "cell_type": "code",
   "execution_count": null,
   "metadata": {
    "collapsed": true
   },
   "outputs": [],
   "source": []
  },
  {
   "cell_type": "markdown",
   "metadata": {},
   "source": [
    "### Argument Passing 4 kinds\n",
    "- Required Arguments\n",
    "- Keyword Arguments\n",
    "- Default Arguments\n",
    "- Variable Length Arguments"
   ]
  },
  {
   "cell_type": "markdown",
   "metadata": {},
   "source": [
    "#### Required Arguments"
   ]
  },
  {
   "cell_type": "code",
   "execution_count": 34,
   "metadata": {
    "collapsed": false
   },
   "outputs": [
    {
     "name": "stdout",
     "output_type": "stream",
     "text": [
      "Enter value of x: 4\n",
      "Value of x is:  4\n"
     ]
    }
   ],
   "source": [
    "#Required Arguments- Values from calling fxn to call fxn\n",
    "def f1(x):\n",
    "    print(\"Value of x is: \",x)\n",
    "    \n",
    "n=input(\"Enter value of x: \")\n",
    "f1(n)"
   ]
  },
  {
   "cell_type": "code",
   "execution_count": 35,
   "metadata": {
    "collapsed": false
   },
   "outputs": [
    {
     "name": "stdout",
     "output_type": "stream",
     "text": [
      "Enter value of x: 4\n"
     ]
    },
    {
     "ename": "TypeError",
     "evalue": "f2() missing 1 required positional argument: 'y'",
     "output_type": "error",
     "traceback": [
      "\u001b[0;31m---------------------------------------------------------------------------\u001b[0m",
      "\u001b[0;31mTypeError\u001b[0m                                 Traceback (most recent call last)",
      "\u001b[0;32m<ipython-input-35-89a54bec2d1e>\u001b[0m in \u001b[0;36m<module>\u001b[0;34m()\u001b[0m\n\u001b[1;32m      4\u001b[0m \u001b[1;33m\u001b[0m\u001b[0m\n\u001b[1;32m      5\u001b[0m \u001b[0mn\u001b[0m\u001b[1;33m=\u001b[0m\u001b[0minput\u001b[0m\u001b[1;33m(\u001b[0m\u001b[1;34m\"Enter value of x: \"\u001b[0m\u001b[1;33m)\u001b[0m\u001b[1;33m\u001b[0m\u001b[0m\n\u001b[0;32m----> 6\u001b[0;31m \u001b[0mf2\u001b[0m\u001b[1;33m(\u001b[0m\u001b[0mn\u001b[0m\u001b[1;33m)\u001b[0m\u001b[1;33m\u001b[0m\u001b[0m\n\u001b[0m",
      "\u001b[0;31mTypeError\u001b[0m: f2() missing 1 required positional argument: 'y'"
     ]
    }
   ],
   "source": [
    "#Required Arguments- We MUST pass same number of elements as specified in definition\n",
    "def f2(x,y):\n",
    "    print(\"Value of x is: \",x,\"Value of y is: \",y)\n",
    "    \n",
    "n=input(\"Enter value of x: \")\n",
    "f2(n)"
   ]
  },
  {
   "cell_type": "code",
   "execution_count": null,
   "metadata": {
    "collapsed": true
   },
   "outputs": [],
   "source": []
  },
  {
   "cell_type": "markdown",
   "metadata": {},
   "source": [
    "#### Keyword Arguments- Used for argument passing irrespective of Position\n",
    "\n",
    "- Use name of keyword instead of position\n",
    "- Using function becomes easier\n",
    "- Selected values can be passed (Other parameters must have default parameters)"
   ]
  },
  {
   "cell_type": "code",
   "execution_count": 46,
   "metadata": {
    "collapsed": false
   },
   "outputs": [
    {
     "name": "stdout",
     "output_type": "stream",
     "text": [
      "Enter First number: 4\n",
      "Enter Second number: 5\n",
      "Value of x is: 100\n",
      "Value of y is: 200\n",
      "Sum is 300\n",
      "------------------------------\n",
      "Value of x is: 4\n",
      "Value of y is: 5\n",
      "Sum is 9\n",
      "------------------------------\n",
      "Value of x is: 10\n",
      "Value of y is: 5\n",
      "Sum is 15\n",
      "------------------------------\n"
     ]
    }
   ],
   "source": [
    "def add(x,y,z):\n",
    "    z=0\n",
    "    s=x+y\n",
    "    print(\"Value of x is:\",x)\n",
    "    print(\"Value of y is:\",y)\n",
    "    print(\"Sum is\",s)\n",
    "\n",
    "n1=int(input(\"Enter First number: \"))\n",
    "n2=int(input(\"Enter Second number: \"))\n",
    "\n",
    "add(100,200,0)\n",
    "print(\"------------------------------\")\n",
    "\n",
    "add(n1,n2,0)\n",
    "print(\"------------------------------\")\n",
    "\n",
    "add(10,y=n2,z=n1)\n",
    "print(\"------------------------------\")\n",
    "\n",
    "#add(x=n1,y=n2) Error: add() missing 1 required positional argument: 'z'\n",
    "\n",
    "\n",
    "#add(y=n1,x=n2) Error: add() missing 1 required positional argument: 'z'\n",
    "\n",
    "#add(x=n1,10) This syntax gives Error: SyntaxError: positional argument follows keyword argument\n",
    "\n"
   ]
  },
  {
   "cell_type": "code",
   "execution_count": null,
   "metadata": {
    "collapsed": true
   },
   "outputs": [],
   "source": []
  },
  {
   "cell_type": "markdown",
   "metadata": {},
   "source": [
    "#### Default Arguments- Used for positional argument passing\n",
    "\n",
    "- Once set default you don't need to pass these arguments anymore\n",
    "- Default value must be constant\n",
    "- Only Parameters at end can be given default Values\n",
    "\n",
    "`def func(a,b=10)` is Valid\n",
    "\n",
    "`def func(a=10,b)` is NOT Valid"
   ]
  },
  {
   "cell_type": "code",
   "execution_count": 52,
   "metadata": {
    "collapsed": false
   },
   "outputs": [
    {
     "name": "stdout",
     "output_type": "stream",
     "text": [
      "Hello Hello Hello \n",
      "World World World World World \n"
     ]
    }
   ],
   "source": [
    "def say(message,times=3):\n",
    "    print(message*times)\n",
    "\n",
    "say('Hello ')\n",
    "say('World ',5)"
   ]
  },
  {
   "cell_type": "code",
   "execution_count": 55,
   "metadata": {
    "collapsed": false
   },
   "outputs": [
    {
     "name": "stdout",
     "output_type": "stream",
     "text": [
      "Hello Hello Hello \n",
      "World World World World World \n",
      "Ho Ho Ho \n"
     ]
    }
   ],
   "source": [
    "def say(message=\"Ho \",times=3):\n",
    "    print(message*times)\n",
    "\n",
    "say('Hello ')\n",
    "say('World ',5)\n",
    "say()"
   ]
  },
  {
   "cell_type": "code",
   "execution_count": 57,
   "metadata": {
    "collapsed": false
   },
   "outputs": [
    {
     "ename": "SyntaxError",
     "evalue": "non-default argument follows default argument (<ipython-input-57-015e30ec926c>, line 2)",
     "output_type": "error",
     "traceback": [
      "\u001b[0;36m  File \u001b[0;32m\"<ipython-input-57-015e30ec926c>\"\u001b[0;36m, line \u001b[0;32m2\u001b[0m\n\u001b[0;31m    def say(message=\"Ho \",times):\u001b[0m\n\u001b[0m           ^\u001b[0m\n\u001b[0;31mSyntaxError\u001b[0m\u001b[0;31m:\u001b[0m non-default argument follows default argument\n"
     ]
    }
   ],
   "source": [
    "# SyntaxError: non-default argument follows default argument\n",
    "def say(message=\"Ho \",times):\n",
    "    print(message*times)\n",
    "\n",
    "say('Hello ')\n",
    "say('World ',5)\n",
    "say()"
   ]
  },
  {
   "cell_type": "code",
   "execution_count": 68,
   "metadata": {
    "collapsed": false
   },
   "outputs": [
    {
     "name": "stdout",
     "output_type": "stream",
     "text": [
      "Value of x is: 10\n",
      "Value of y is: 20\n",
      "Value of z is: 0\n",
      "Sum is 30\n",
      "-------------------\n",
      "Value of x is: 20\n",
      "Value of y is: 10\n",
      "Value of z is: 0\n",
      "Sum is 30\n",
      "-------------------\n",
      "Value of x is: 20\n",
      "Value of y is: 5\n",
      "Value of z is: 0\n",
      "Sum is 25\n",
      "-------------------\n",
      "Value of x is: 4\n",
      "Value of y is: 5\n",
      "Value of z is: 0\n",
      "Sum is 9\n"
     ]
    }
   ],
   "source": [
    "def add(x=4,y=5,z=0):\n",
    "    s=x+y+z\n",
    "    print(\"Value of x is:\",x)\n",
    "    print(\"Value of y is:\",y)\n",
    "    print(\"Value of z is:\",z)\n",
    "    print(\"Sum is\",s)\n",
    "\n",
    "n1=10\n",
    "n2=20\n",
    "\n",
    "add(n1,n2)\n",
    "print(\"-------------------\")\n",
    "add(y=n1,x=n2)\n",
    "print(\"-------------------\")\n",
    "add(x=n2)\n",
    "print(\"-------------------\")\n",
    "add()\n"
   ]
  },
  {
   "cell_type": "code",
   "execution_count": null,
   "metadata": {
    "collapsed": true
   },
   "outputs": [],
   "source": []
  },
  {
   "cell_type": "code",
   "execution_count": null,
   "metadata": {
    "collapsed": true
   },
   "outputs": [],
   "source": []
  },
  {
   "cell_type": "markdown",
   "metadata": {},
   "source": [
    "#### Variable Arguments- \n",
    "\n",
    "- `*` and `**` \n",
    "- `*` Collected as tuple\n",
    "- `**` Keyword arguments are Collected as dictionary\n"
   ]
  },
  {
   "cell_type": "code",
   "execution_count": 84,
   "metadata": {
    "collapsed": false
   },
   "outputs": [],
   "source": [
    "def total(initial=5, *numbers, **keywords):\n",
    "    count=initial\n",
    "    print(count)\n",
    "    print(numbers)\n",
    "    \n",
    "    for n in numbers:\n",
    "        count+=n\n",
    "    print(keywords)\n",
    "    for key in keywords:\n",
    "        count+=keywords[key]\n",
    "        print(count)"
   ]
  },
  {
   "cell_type": "code",
   "execution_count": 85,
   "metadata": {
    "collapsed": false
   },
   "outputs": [
    {
     "name": "stdout",
     "output_type": "stream",
     "text": [
      "10\n",
      "(21, 32, 3)\n",
      "{'vegetables': 50, 'fruits': 100}\n",
      "116\n",
      "216\n"
     ]
    }
   ],
   "source": [
    "total(10,21,32,3,vegetables=50,fruits=100)"
   ]
  },
  {
   "cell_type": "code",
   "execution_count": 86,
   "metadata": {
    "collapsed": false
   },
   "outputs": [
    {
     "name": "stdout",
     "output_type": "stream",
     "text": [
      "5\n",
      "()\n",
      "{'vegetables': 50, 'fruits': 100, 'bags': 10}\n",
      "55\n",
      "155\n",
      "165\n"
     ]
    }
   ],
   "source": [
    "total(vegetables=50,fruits=100,bags=10)"
   ]
  },
  {
   "cell_type": "code",
   "execution_count": 88,
   "metadata": {
    "collapsed": false
   },
   "outputs": [
    {
     "name": "stdout",
     "output_type": "stream",
     "text": [
      "5\n",
      "()\n",
      "{'vegetables': 50, 'fruits': 100, 'bags': 10}\n",
      "55\n",
      "155\n",
      "165\n"
     ]
    }
   ],
   "source": [
    "total(vegetables=50,fruits=100,bags=10)"
   ]
  },
  {
   "cell_type": "code",
   "execution_count": 91,
   "metadata": {
    "collapsed": false
   },
   "outputs": [
    {
     "name": "stdout",
     "output_type": "stream",
     "text": [
      "0\n",
      "1\n",
      "2\n",
      "3\n",
      "4\n"
     ]
    }
   ],
   "source": [
    "for i in range(5):\n",
    "    print(i)"
   ]
  },
  {
   "cell_type": "code",
   "execution_count": 94,
   "metadata": {
    "collapsed": false
   },
   "outputs": [],
   "source": [
    "# https://docs.python.org/2/library/inspect.html#retrieving-source-code"
   ]
  },
  {
   "cell_type": "code",
   "execution_count": null,
   "metadata": {
    "collapsed": false
   },
   "outputs": [],
   "source": [
    "#Implement your own range function print start stop and step"
   ]
  },
  {
   "cell_type": "markdown",
   "metadata": {},
   "source": [
    "### Requirements:\n",
    "\n",
    "- r(5)= 0..4\n",
    "- r(1,5)= 1..4\n",
    "- r(1,5,2)= 1,3"
   ]
  },
  {
   "cell_type": "code",
   "execution_count": 117,
   "metadata": {
    "collapsed": false
   },
   "outputs": [
    {
     "name": "stdout",
     "output_type": "stream",
     "text": [
      "Start=0 stop= 4 Step=1\n",
      "Start= 3 Stop= 5 Step=1\n",
      "Start= 2 Stop= 4 Step= 2\n",
      "Start= 3 Stop= 1 Step=1\n"
     ]
    }
   ],
   "source": [
    "def custom_range(tmp=0, *numbers):\n",
    "    if(tmp!=0 and len(numbers)==0):\n",
    "        print(\"Start=0\",\"stop=\",tmp,\"Step=1\")\n",
    "    elif(tmp!=0  and len(numbers)==1):\n",
    "        print(\"Start=\",tmp,\"Stop=\",numbers[0],\"Step=1\")\n",
    "    elif(tmp!=0  and len(numbers)==2):\n",
    "        print(\"Start=\",tmp,\"Stop=\",numbers[0],\"Step=\",numbers[1])\n",
    "    \n",
    "      \n",
    "custom_range(4)\n",
    "custom_range(3,5)\n",
    "custom_range(2,4,2)\n",
    "\n",
    "custom_range(3,1) #Must do nothing"
   ]
  },
  {
   "cell_type": "code",
   "execution_count": null,
   "metadata": {
    "collapsed": false
   },
   "outputs": [],
   "source": []
  },
  {
   "cell_type": "markdown",
   "metadata": {},
   "source": [
    "### Return Clause:\n",
    "\n",
    "- Break from a function\n",
    "- Multiple return clauses possible\n",
    "- Return without value means return none\n",
    "- Return multiple values by tuple unpacking"
   ]
  },
  {
   "cell_type": "code",
   "execution_count": 122,
   "metadata": {
    "collapsed": false
   },
   "outputs": [],
   "source": [
    "def maximum(x,y):\n",
    "    if(x>y):\n",
    "        return x\n",
    "    elif(x==y):\n",
    "        return \"x is equal to y\"\n",
    "    elif(x<y):\n",
    "        return y"
   ]
  },
  {
   "cell_type": "code",
   "execution_count": 123,
   "metadata": {
    "collapsed": false
   },
   "outputs": [
    {
     "name": "stdout",
     "output_type": "stream",
     "text": [
      "3\n",
      "<class 'int'>\n"
     ]
    }
   ],
   "source": [
    "c=maximum(2,3)\n",
    "print(c)\n",
    "print(type(c))"
   ]
  },
  {
   "cell_type": "code",
   "execution_count": 124,
   "metadata": {
    "collapsed": false
   },
   "outputs": [
    {
     "name": "stdout",
     "output_type": "stream",
     "text": [
      "x is equal to y\n",
      "<class 'str'>\n"
     ]
    }
   ],
   "source": [
    "c=maximum(3,3)\n",
    "print(c)\n",
    "print(type(c))"
   ]
  },
  {
   "cell_type": "code",
   "execution_count": 125,
   "metadata": {
    "collapsed": false
   },
   "outputs": [
    {
     "name": "stdout",
     "output_type": "stream",
     "text": [
      "4\n",
      "<class 'int'>\n"
     ]
    }
   ],
   "source": [
    "c=maximum(4,3)\n",
    "print(c)\n",
    "print(type(c))"
   ]
  },
  {
   "cell_type": "code",
   "execution_count": null,
   "metadata": {
    "collapsed": true
   },
   "outputs": [],
   "source": []
  },
  {
   "cell_type": "code",
   "execution_count": 126,
   "metadata": {
    "collapsed": true
   },
   "outputs": [],
   "source": [
    "#Example with tuple unpacking\n",
    "def add(x,y):\n",
    "    s=x+y\n",
    "    x=x+1\n",
    "    y=y+1\n",
    "    return(s,x,y)"
   ]
  },
  {
   "cell_type": "code",
   "execution_count": 128,
   "metadata": {
    "collapsed": false
   },
   "outputs": [
    {
     "name": "stdout",
     "output_type": "stream",
     "text": [
      "N1= 4 N2= 5\n",
      "Sum is 9\n",
      "N1 incremented is 5\n",
      "N2 incremented is 6\n"
     ]
    }
   ],
   "source": [
    "n1=4\n",
    "n2=5\n",
    "print(\"N1=\",n1,\"N2=\",n2)\n",
    "\n",
    "s1,x1,y1=add(n1,n2)\n",
    "print(\"Sum is\",s1)\n",
    "print(\"N1 incremented is\",x1)\n",
    "print(\"N2 incremented is\",y1)"
   ]
  },
  {
   "cell_type": "code",
   "execution_count": null,
   "metadata": {
    "collapsed": true
   },
   "outputs": [],
   "source": []
  },
  {
   "cell_type": "markdown",
   "metadata": {},
   "source": [
    "### Lambda small anonymous function (Doesnt accept fxn as parameter)\n",
    "### Map - accepts fxn and iterable data returns a map object we haveto convert it to a list \n",
    "### Filter function that returns which element is making that fxn true! "
   ]
  },
  {
   "cell_type": "code",
   "execution_count": null,
   "metadata": {
    "collapsed": true
   },
   "outputs": [],
   "source": []
  },
  {
   "cell_type": "code",
   "execution_count": 2,
   "metadata": {
    "collapsed": false
   },
   "outputs": [
    {
     "name": "stdout",
     "output_type": "stream",
     "text": [
      "<class 'function'>\n",
      "5\n"
     ]
    }
   ],
   "source": [
    "add=lambda x,y:x+y\n",
    "print(type(add))\n",
    "\n",
    "print(add(2,3))"
   ]
  },
  {
   "cell_type": "code",
   "execution_count": null,
   "metadata": {
    "collapsed": true
   },
   "outputs": [],
   "source": []
  },
  {
   "cell_type": "markdown",
   "metadata": {},
   "source": [
    "#### Map"
   ]
  },
  {
   "cell_type": "code",
   "execution_count": 5,
   "metadata": {
    "collapsed": false
   },
   "outputs": [
    {
     "name": "stdout",
     "output_type": "stream",
     "text": [
      "<map object at 0x000001E50A186CF8>\n",
      "<class 'map'>\n",
      "[2, 4, 6, 8]\n"
     ]
    }
   ],
   "source": [
    "def multiply2(x):\n",
    "    return x*2\n",
    "\n",
    "x=map(multiply2,[1,2,3,4])\n",
    "\n",
    "print(x)\n",
    "print(type(x))\n",
    "print(list(x))"
   ]
  },
  {
   "cell_type": "code",
   "execution_count": null,
   "metadata": {
    "collapsed": true
   },
   "outputs": [],
   "source": []
  },
  {
   "cell_type": "code",
   "execution_count": 6,
   "metadata": {
    "collapsed": false
   },
   "outputs": [
    {
     "name": "stdout",
     "output_type": "stream",
     "text": [
      "[2, 4, 6, 8]\n",
      "<class 'map'>\n"
     ]
    }
   ],
   "source": [
    "x=map(lambda x:x*2, [1,2,3,4])\n",
    "print(list(x))\n",
    "print(type(x))"
   ]
  },
  {
   "cell_type": "markdown",
   "metadata": {},
   "source": [
    "#### Iterating over a dictionary using map and lambda"
   ]
  },
  {
   "cell_type": "code",
   "execution_count": 12,
   "metadata": {
    "collapsed": false
   },
   "outputs": [
    {
     "name": "stdout",
     "output_type": "stream",
     "text": [
      "[{'name': 'python', 'points': 10}, {'name': 'java', 'points': 8}]\n"
     ]
    }
   ],
   "source": [
    "list_a= [{'name':'python','points':10},{'name':'java','points':8}]\n",
    "\n",
    "print(list_a)"
   ]
  },
  {
   "cell_type": "code",
   "execution_count": 13,
   "metadata": {
    "collapsed": false
   },
   "outputs": [
    {
     "data": {
      "text/plain": [
       "['python', 'java']"
      ]
     },
     "execution_count": 13,
     "metadata": {},
     "output_type": "execute_result"
    }
   ],
   "source": [
    "list(map(lambda x:x['name'],list_a))"
   ]
  },
  {
   "cell_type": "code",
   "execution_count": 14,
   "metadata": {
    "collapsed": false
   },
   "outputs": [
    {
     "data": {
      "text/plain": [
       "[100, 80]"
      ]
     },
     "execution_count": 14,
     "metadata": {},
     "output_type": "execute_result"
    }
   ],
   "source": [
    "list(map(lambda x:x['points']*10,list_a))"
   ]
  },
  {
   "cell_type": "code",
   "execution_count": 16,
   "metadata": {
    "collapsed": false
   },
   "outputs": [
    {
     "data": {
      "text/plain": [
       "[True, False]"
      ]
     },
     "execution_count": 16,
     "metadata": {},
     "output_type": "execute_result"
    }
   ],
   "source": [
    "list(map(lambda x:x['name']=='python',list_a))"
   ]
  },
  {
   "cell_type": "code",
   "execution_count": null,
   "metadata": {
    "collapsed": true
   },
   "outputs": [],
   "source": []
  },
  {
   "cell_type": "code",
   "execution_count": 17,
   "metadata": {
    "collapsed": true
   },
   "outputs": [],
   "source": [
    "#### Multiple iterables to the map function\n",
    "\n",
    "list_1=[1,2,3]\n",
    "list_2=[10,20,30]"
   ]
  },
  {
   "cell_type": "code",
   "execution_count": 18,
   "metadata": {
    "collapsed": false
   },
   "outputs": [
    {
     "data": {
      "text/plain": [
       "[11, 22, 33]"
      ]
     },
     "execution_count": 18,
     "metadata": {},
     "output_type": "execute_result"
    }
   ],
   "source": [
    "list(map(lambda x,y:x+y,list_1,list_2))"
   ]
  },
  {
   "cell_type": "code",
   "execution_count": null,
   "metadata": {
    "collapsed": true
   },
   "outputs": [],
   "source": []
  },
  {
   "cell_type": "markdown",
   "metadata": {},
   "source": [
    "#### Filter"
   ]
  },
  {
   "cell_type": "code",
   "execution_count": 22,
   "metadata": {
    "collapsed": false
   },
   "outputs": [
    {
     "data": {
      "text/plain": [
       "[False, True, False, True, False, True]"
      ]
     },
     "execution_count": 22,
     "metadata": {},
     "output_type": "execute_result"
    }
   ],
   "source": [
    "#Even number using Filter function\n",
    "\n",
    "a=[1,2,3,4,5,6]\n",
    "\n",
    "list(map(lambda x:x%2==0,a))\n"
   ]
  },
  {
   "cell_type": "code",
   "execution_count": 24,
   "metadata": {
    "collapsed": false
   },
   "outputs": [
    {
     "data": {
      "text/plain": [
       "[2, 4, 6]"
      ]
     },
     "execution_count": 24,
     "metadata": {},
     "output_type": "execute_result"
    }
   ],
   "source": [
    "list(filter(lambda x:x%2==0,a)) #Returns element if fxn returns true!"
   ]
  },
  {
   "cell_type": "code",
   "execution_count": null,
   "metadata": {
    "collapsed": true
   },
   "outputs": [],
   "source": []
  },
  {
   "cell_type": "markdown",
   "metadata": {},
   "source": [
    "#### Filter of Dicts"
   ]
  },
  {
   "cell_type": "code",
   "execution_count": 26,
   "metadata": {
    "collapsed": false
   },
   "outputs": [
    {
     "data": {
      "text/plain": [
       "[{'name': 'python', 'points': 10}]"
      ]
     },
     "execution_count": 26,
     "metadata": {},
     "output_type": "execute_result"
    }
   ],
   "source": [
    "list_a= [{'name':'python','points':10},{'name':'java','points':8}]\n",
    "\n",
    "list(filter(lambda x:x['name']=='python',list_a))"
   ]
  },
  {
   "cell_type": "code",
   "execution_count": null,
   "metadata": {
    "collapsed": true
   },
   "outputs": [],
   "source": []
  },
  {
   "cell_type": "markdown",
   "metadata": {},
   "source": [
    "### Recursive Functions"
   ]
  },
  {
   "cell_type": "code",
   "execution_count": 28,
   "metadata": {
    "collapsed": false
   },
   "outputs": [
    {
     "name": "stdout",
     "output_type": "stream",
     "text": [
      "Enter the value: 5\n",
      "5\n",
      "4\n",
      "3\n",
      "2\n",
      "1\n"
     ]
    }
   ],
   "source": [
    "def decrement(a):\n",
    "    if(a>0):\n",
    "        print(a)\n",
    "        decrement(a-1)\n",
    "    else:\n",
    "        return()\n",
    "n=int(input(\"Enter the value: \"))\n",
    "decrement(n)\n"
   ]
  },
  {
   "cell_type": "code",
   "execution_count": 39,
   "metadata": {
    "collapsed": false
   },
   "outputs": [
    {
     "name": "stdout",
     "output_type": "stream",
     "text": [
      "Enter the value: 9\n",
      "Enter the value: 3\n"
     ]
    },
    {
     "data": {
      "text/plain": [
       "3"
      ]
     },
     "execution_count": 39,
     "metadata": {},
     "output_type": "execute_result"
    }
   ],
   "source": [
    "def gcd(a,b):\n",
    "    if(b!=0):\n",
    "        return gcd(b,a%b)\n",
    "    else:\n",
    "        return a\n",
    "    \n",
    "a=int(input(\"Enter the value: \"))\n",
    "b=int(input(\"Enter the value: \"))\n",
    "\n",
    "gcd(a,b)\n",
    "    "
   ]
  },
  {
   "cell_type": "raw",
   "metadata": {},
   "source": [
    "#gcd written by self\n",
    "\n",
    "gcd=greatest common divisior, \n",
    "10,3?=1\n",
    "9,3?=3\n",
    "100,50?=50"
   ]
  },
  {
   "cell_type": "code",
   "execution_count": null,
   "metadata": {
    "collapsed": true
   },
   "outputs": [],
   "source": []
  },
  {
   "cell_type": "code",
   "execution_count": 57,
   "metadata": {
    "collapsed": false
   },
   "outputs": [
    {
     "ename": "UnboundLocalError",
     "evalue": "local variable 'i' referenced before assignment",
     "output_type": "error",
     "traceback": [
      "\u001b[0;31m---------------------------------------------------------------------------\u001b[0m",
      "\u001b[0;31mUnboundLocalError\u001b[0m                         Traceback (most recent call last)",
      "\u001b[0;32m<ipython-input-57-1692123ff6f2>\u001b[0m in \u001b[0;36m<module>\u001b[0;34m()\u001b[0m\n\u001b[1;32m     16\u001b[0m \u001b[1;33m\u001b[0m\u001b[0m\n\u001b[1;32m     17\u001b[0m \u001b[1;33m\u001b[0m\u001b[0m\n\u001b[0;32m---> 18\u001b[0;31m \u001b[0mli_1\u001b[0m\u001b[1;33m=\u001b[0m\u001b[0mfib\u001b[0m\u001b[1;33m(\u001b[0m\u001b[1;36m5\u001b[0m\u001b[1;33m)\u001b[0m\u001b[1;33m\u001b[0m\u001b[0m\n\u001b[0m\u001b[1;32m     19\u001b[0m \u001b[0mprint\u001b[0m\u001b[1;33m(\u001b[0m\u001b[0mli_1\u001b[0m\u001b[1;33m)\u001b[0m\u001b[1;33m\u001b[0m\u001b[0m\n\u001b[1;32m     20\u001b[0m \u001b[1;33m\u001b[0m\u001b[0m\n",
      "\u001b[0;32m<ipython-input-57-1692123ff6f2>\u001b[0m in \u001b[0;36mfib\u001b[0;34m(n)\u001b[0m\n\u001b[1;32m      6\u001b[0m \u001b[1;32mdef\u001b[0m \u001b[0mfib\u001b[0m\u001b[1;33m(\u001b[0m\u001b[0mn\u001b[0m\u001b[1;33m)\u001b[0m\u001b[1;33m:\u001b[0m\u001b[1;33m\u001b[0m\u001b[0m\n\u001b[1;32m      7\u001b[0m \u001b[1;33m\u001b[0m\u001b[0m\n\u001b[0;32m----> 8\u001b[0;31m     \u001b[0mli\u001b[0m\u001b[1;33m.\u001b[0m\u001b[0mappend\u001b[0m\u001b[1;33m(\u001b[0m\u001b[0mli\u001b[0m\u001b[1;33m[\u001b[0m\u001b[0mi\u001b[0m\u001b[1;33m-\u001b[0m\u001b[1;36m1\u001b[0m\u001b[1;33m]\u001b[0m\u001b[1;33m+\u001b[0m\u001b[0mli\u001b[0m\u001b[1;33m[\u001b[0m\u001b[0mi\u001b[0m\u001b[1;33m-\u001b[0m\u001b[1;36m2\u001b[0m\u001b[1;33m]\u001b[0m\u001b[1;33m)\u001b[0m\u001b[1;33m\u001b[0m\u001b[0m\n\u001b[0m\u001b[1;32m      9\u001b[0m     \u001b[0mi\u001b[0m\u001b[1;33m+=\u001b[0m\u001b[1;36m1\u001b[0m\u001b[1;33m\u001b[0m\u001b[0m\n\u001b[1;32m     10\u001b[0m     \u001b[0mn\u001b[0m\u001b[1;33m-=\u001b[0m\u001b[1;36m1\u001b[0m\u001b[1;33m\u001b[0m\u001b[0m\n",
      "\u001b[0;31mUnboundLocalError\u001b[0m: local variable 'i' referenced before assignment"
     ]
    }
   ],
   "source": [
    "#Write recursive program for Fibonacci\n",
    "\n",
    "li=[0,1] \n",
    "i=2\n",
    "\n",
    "def fib(n):\n",
    "    \n",
    "    li.append(li[i-1]+li[i-2])\n",
    "    i+=1\n",
    "    n-=1\n",
    "    \n",
    "    if(n!=0):\n",
    "        return fib(n)\n",
    "    else:\n",
    "        return li\n",
    "        \n",
    "\n",
    "li_1=fib(5)\n",
    "print(li_1)\n",
    "\n",
    "        "
   ]
  },
  {
   "cell_type": "code",
   "execution_count": null,
   "metadata": {
    "collapsed": false
   },
   "outputs": [],
   "source": []
  },
  {
   "cell_type": "markdown",
   "metadata": {},
   "source": [
    "### Scope of Variables: Local and Global Variables\n"
   ]
  },
  {
   "cell_type": "code",
   "execution_count": 58,
   "metadata": {
    "collapsed": false
   },
   "outputs": [
    {
     "name": "stdout",
     "output_type": "stream",
     "text": [
      "Changes local x to 2\n"
     ]
    }
   ],
   "source": [
    "def func():\n",
    "    x=2\n",
    "    print('Changes local x to',x)\n",
    "func()"
   ]
  },
  {
   "cell_type": "code",
   "execution_count": null,
   "metadata": {
    "collapsed": true
   },
   "outputs": [],
   "source": []
  },
  {
   "cell_type": "code",
   "execution_count": null,
   "metadata": {
    "collapsed": true
   },
   "outputs": [],
   "source": []
  },
  {
   "cell_type": "code",
   "execution_count": null,
   "metadata": {
    "collapsed": true
   },
   "outputs": [],
   "source": []
  },
  {
   "cell_type": "code",
   "execution_count": null,
   "metadata": {
    "collapsed": true
   },
   "outputs": [],
   "source": []
  }
 ],
 "metadata": {
  "kernelspec": {
   "display_name": "Python 3",
   "language": "python",
   "name": "python3"
  },
  "language_info": {
   "codemirror_mode": {
    "name": "ipython",
    "version": 3
   },
   "file_extension": ".py",
   "mimetype": "text/x-python",
   "name": "python",
   "nbconvert_exporter": "python",
   "pygments_lexer": "ipython3",
   "version": "3.6.0"
  }
 },
 "nbformat": 4,
 "nbformat_minor": 2
}
