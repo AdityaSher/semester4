{
 "cells": [
  {
   "cell_type": "markdown",
   "metadata": {},
   "source": [
    "# Perform CRUD actions on SQL Lite Database\n",
    "\n",
    "- Create\n",
    "- Read\n",
    "- Update\n",
    "- Delete\n",
    "\n"
   ]
  },
  {
   "cell_type": "markdown",
   "metadata": {},
   "source": [
    "## Common tasks accross db\n",
    "\n",
    "conn=connect(dsn=\"hostname:DBNAME\",user=\"adminlol\",password=\"adminlol\")\n",
    "\n",
    "- Connections\n",
    " - conn.close()\n",
    " - conn.commit()\n",
    " - conn.rollback()\n",
    " - conn.cursor()\n",
    "   - cur.execute(query[,parameters])\n",
    "   (read about cursor methods from internet)"
   ]
  },
  {
   "cell_type": "code",
   "execution_count": null,
   "metadata": {
    "collapsed": true
   },
   "outputs": [],
   "source": []
  },
  {
   "cell_type": "code",
   "execution_count": 2,
   "metadata": {
    "collapsed": false
   },
   "outputs": [],
   "source": [
    "import sqlite3"
   ]
  },
  {
   "cell_type": "code",
   "execution_count": 3,
   "metadata": {
    "collapsed": true
   },
   "outputs": [],
   "source": [
    "#Creates or opens a file called mydb with SQLite3 DB\n",
    "db=sqlite3.connect('MyDB')"
   ]
  },
  {
   "cell_type": "code",
   "execution_count": 4,
   "metadata": {
    "collapsed": true
   },
   "outputs": [],
   "source": [
    "db.close()"
   ]
  },
  {
   "cell_type": "code",
   "execution_count": null,
   "metadata": {
    "collapsed": true
   },
   "outputs": [],
   "source": []
  },
  {
   "cell_type": "markdown",
   "metadata": {},
   "source": [
    "## Create Table"
   ]
  },
  {
   "cell_type": "code",
   "execution_count": 7,
   "metadata": {
    "collapsed": false
   },
   "outputs": [
    {
     "name": "stdout",
     "output_type": "stream",
     "text": [
      "Drop Command Successful\n",
      "Table Created\n"
     ]
    }
   ],
   "source": [
    "db=sqlite3.connect('MyDB')\n",
    "\n",
    "#Create new cursor [Poiter]\n",
    "\n",
    "cur=db.cursor()\n",
    "\n",
    "#Drop table if already exist using execute() method.\n",
    "\n",
    "if cur.execute(\"DROP TABLE IF EXISTS custs\"): # True is returned if command is executed (Not necessarily table dropped)\n",
    "    print('Drop Command Successful')\n",
    "\n",
    "#Create Table\n",
    "\n",
    "if cur.execute(\"CREATE TABLE custs(id INTEGER PRIMARY KEY, name TEXT, phone TEXT, email TEXT unique, course TEXT)\"):\n",
    "    print('Table Created')\n",
    "\n",
    "db.commit()\n",
    "\n",
    "cur.close()\n",
    "db.close()\n"
   ]
  },
  {
   "cell_type": "code",
   "execution_count": 8,
   "metadata": {
    "collapsed": true
   },
   "outputs": [],
   "source": [
    "# use PRAGMA table_info([custs]); to view table"
   ]
  },
  {
   "cell_type": "code",
   "execution_count": null,
   "metadata": {
    "collapsed": true
   },
   "outputs": [],
   "source": []
  },
  {
   "cell_type": "markdown",
   "metadata": {},
   "source": [
    "## CURD opetation: INSERT"
   ]
  },
  {
   "cell_type": "code",
   "execution_count": 11,
   "metadata": {
    "collapsed": false
   },
   "outputs": [
    {
     "name": "stdout",
     "output_type": "stream",
     "text": [
      "1 record inserted successfully\n",
      "2 record inserted successfully\n",
      "3 record inserted successfully\n",
      "4 record inserted successfully\n"
     ]
    }
   ],
   "source": [
    "db=sqlite3.connect('MyDB')\n",
    "\n",
    "# Create new cursor [Poiter]\n",
    "\n",
    "cur=db.cursor()\n",
    "\n",
    "# Insert into Custs\n",
    "\n",
    "if cur.execute(\"INSERT INTO custs(name,course) VALUES (?,?)\",('Anup','Python')):\n",
    "               print(\"1 record inserted successfully\")\n",
    "\n",
    "if cur.execute(\"INSERT INTO custs(name,course) VALUES (?,?)\",('Swaroop','Hadoop')):\n",
    "               print(\"2 record inserted successfully\")\n",
    "\n",
    "# Insert into custs from Dictionary\n",
    "if cur.execute(\"INSERT INTO custs(name,course) VALUES (:name,:course)\",{'name':'Vishal','course':'Data Science'}):\n",
    "               print(\"3 record inserted successfully\")\n",
    "               \n",
    "# Insert into custs using executemany\n",
    "if cur.executemany(\"INSERT INTO custs(name,course) VALUES (?,?)\",[('Pranay','Web App'),('Viraj','Android')]):\n",
    "               print(\"4 record inserted successfully\")\n",
    "               \n",
    "\n",
    "db.commit()\n",
    "\n",
    "cur.close()\n",
    "db.close()"
   ]
  },
  {
   "cell_type": "code",
   "execution_count": null,
   "metadata": {
    "collapsed": true
   },
   "outputs": [],
   "source": []
  },
  {
   "cell_type": "markdown",
   "metadata": {},
   "source": [
    "## CURD Operation: Select\n",
    "\n",
    "- fetchone()\n",
    "- fetchall()"
   ]
  },
  {
   "cell_type": "code",
   "execution_count": 19,
   "metadata": {
    "collapsed": false
   },
   "outputs": [
    {
     "name": "stdout",
     "output_type": "stream",
     "text": [
      "Record cursor is ready\n",
      "---------------------------\n",
      "('Anup', 'Python')\n",
      "---------------------------\n",
      "\n",
      "\n",
      "Fetch using fetchall()\n",
      "Swaroop,Hadoop\n",
      "---------------------------\n",
      "Vishal,Data Science\n",
      "---------------------------\n",
      "Pranay,Web App\n",
      "---------------------------\n",
      "Viraj,Android\n",
      "---------------------------\n"
     ]
    }
   ],
   "source": [
    "db=sqlite3.connect('MyDB')\n",
    "\n",
    "# Create new cursor [Poiter]\n",
    "\n",
    "cur=db.cursor()\n",
    "\n",
    "# Select cursor for custs\n",
    "if cur.execute(\"SELECT name,course from custs\"):\n",
    "    print('Record cursor is ready')\n",
    "print(\"---------------------------\")\n",
    "\n",
    "# Fetch using fetchone()\n",
    "record1=cur.fetchone()\n",
    "\n",
    "print(record1)\n",
    "print(\"---------------------------\")\n",
    "\n",
    "\n",
    "\n",
    "# Fetch using fetchall()\n",
    "print(\"\\n\\nFetch using fetchall()\")\n",
    "\n",
    "recordsall=cur.fetchall()\n",
    "\n",
    "for record in recordsall:\n",
    "    print('{0},{1}'.format(record[0],record[1]))\n",
    "    print(\"---------------------------\")\n",
    "    \n",
    "\n",
    "db.commit()\n",
    "\n",
    "cur.close()\n",
    "db.close()\n"
   ]
  },
  {
   "cell_type": "code",
   "execution_count": null,
   "metadata": {
    "collapsed": true
   },
   "outputs": [],
   "source": []
  },
  {
   "cell_type": "code",
   "execution_count": 24,
   "metadata": {
    "collapsed": false
   },
   "outputs": [
    {
     "name": "stdout",
     "output_type": "stream",
     "text": [
      "Record cursor is ready\n",
      "---------------------------\n",
      "Anup,Python\n",
      "Swaroop,Hadoop\n",
      "Vishal,Data Science\n",
      "Pranay,Web App\n",
      "Viraj,Android\n",
      "\n",
      "Record cursor is ready\n",
      "Anup,Python\n",
      "\n",
      "Record cursor is ready\n",
      "Anup,Python\n"
     ]
    }
   ],
   "source": [
    "## Select - Continue\n",
    "db=sqlite3.connect('MyDB')\n",
    "\n",
    "# Create new cursor [Poiter]\n",
    "\n",
    "cur=db.cursor()\n",
    "\n",
    "# Select cursor for custs\n",
    "if cur.execute(\"SELECT name,course from custs\"):\n",
    "    print('Record cursor is ready')\n",
    "print(\"---------------------------\")\n",
    "\n",
    "# cursor object as iterator\n",
    "for record in cur:\n",
    "    print('{0},{1}'.format(record[0],record[1]))\n",
    "    \n",
    "\n",
    "# Select with where clause\n",
    "if cur.execute(\"SELECT name,course FROM custs WHERE name=?\", ('Anup',)):\n",
    "    print(\"\\nRecord cursor is ready\")\n",
    "    \n",
    "    \n",
    "# cursor object as iterator\n",
    "for record in cur:\n",
    "    print('{0},{1}'.format(record[0],record[1]))\n",
    "    \n",
    "# Select with where clause\n",
    "if cur.execute(\"SELECT name,course FROM custs WHERE name=? and course=?\", ('Anup','Python')):\n",
    "    print(\"\\nRecord cursor is ready\")\n",
    "    \n",
    "    \n",
    "# cursor object as iterator\n",
    "for record in cur:\n",
    "    print('{0},{1}'.format(record[0],record[1]))\n",
    "    \n",
    "db.commit()\n",
    "\n",
    "cur.close()\n",
    "db.close()\n"
   ]
  },
  {
   "cell_type": "code",
   "execution_count": null,
   "metadata": {
    "collapsed": true
   },
   "outputs": [],
   "source": []
  }
 ],
 "metadata": {
  "kernelspec": {
   "display_name": "Python 3",
   "language": "python",
   "name": "python3"
  },
  "language_info": {
   "codemirror_mode": {
    "name": "ipython",
    "version": 3
   },
   "file_extension": ".py",
   "mimetype": "text/x-python",
   "name": "python",
   "nbconvert_exporter": "python",
   "pygments_lexer": "ipython3",
   "version": "3.6.0"
  }
 },
 "nbformat": 4,
 "nbformat_minor": 2
}
