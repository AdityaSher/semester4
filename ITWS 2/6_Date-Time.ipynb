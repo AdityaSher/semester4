{
 "cells": [
  {
   "cell_type": "markdown",
   "metadata": {},
   "source": [
    "# Date Time in python"
   ]
  },
  {
   "cell_type": "markdown",
   "metadata": {},
   "source": [
    "### Contents\n",
    "\n",
    "- Intro\n",
    "- datetime.date\n",
    "- datetime.time\n",
    "- datetime.datetime\n",
    "- datetime.timedelta\n",
    "- Python Format Date-Time\n",
    "- Handling timezone in Python\n"
   ]
  },
  {
   "cell_type": "code",
   "execution_count": null,
   "metadata": {
    "collapsed": true
   },
   "outputs": [],
   "source": []
  },
  {
   "cell_type": "code",
   "execution_count": 10,
   "metadata": {
    "collapsed": true
   },
   "outputs": [],
   "source": [
    "import datetime as dt"
   ]
  },
  {
   "cell_type": "markdown",
   "metadata": {},
   "source": [
    "#### Get Current Date and Time"
   ]
  },
  {
   "cell_type": "code",
   "execution_count": 11,
   "metadata": {
    "collapsed": false
   },
   "outputs": [
    {
     "name": "stdout",
     "output_type": "stream",
     "text": [
      "2019-02-25 16:26:30.429268\n"
     ]
    }
   ],
   "source": [
    "datetime_object=dt.datetime.now()\n",
    "print(datetime_object)"
   ]
  },
  {
   "cell_type": "markdown",
   "metadata": {},
   "source": [
    "- Remember Date Time is not a string"
   ]
  },
  {
   "cell_type": "markdown",
   "metadata": {},
   "source": [
    "#### Get CurrentDate"
   ]
  },
  {
   "cell_type": "code",
   "execution_count": 12,
   "metadata": {
    "collapsed": false
   },
   "outputs": [
    {
     "name": "stdout",
     "output_type": "stream",
     "text": [
      "2019-02-25\n"
     ]
    }
   ],
   "source": [
    "date_object=dt.date.today()\n",
    "print(date_object)"
   ]
  },
  {
   "cell_type": "markdown",
   "metadata": {},
   "source": [
    "#### To check what are methods (Functions) available in datetime module"
   ]
  },
  {
   "cell_type": "code",
   "execution_count": 13,
   "metadata": {
    "collapsed": false
   },
   "outputs": [
    {
     "name": "stdout",
     "output_type": "stream",
     "text": [
      "['MAXYEAR', 'MINYEAR', '__builtins__', '__cached__', '__doc__', '__file__', '__loader__', '__name__', '__package__', '__spec__', '_divide_and_round', 'date', 'datetime', 'datetime_CAPI', 'time', 'timedelta', 'timezone', 'tzinfo']\n"
     ]
    }
   ],
   "source": [
    "print(dir(datetime))"
   ]
  },
  {
   "cell_type": "code",
   "execution_count": null,
   "metadata": {
    "collapsed": true
   },
   "outputs": [],
   "source": []
  },
  {
   "cell_type": "code",
   "execution_count": null,
   "metadata": {
    "collapsed": true
   },
   "outputs": [],
   "source": []
  },
  {
   "cell_type": "markdown",
   "metadata": {},
   "source": [
    "#### Classses in DateTime Module\n",
    "\n",
    "- date Class\n",
    "- time Class\n",
    "- datetime Class\n",
    "- timedelta Class (Difference)"
   ]
  },
  {
   "cell_type": "code",
   "execution_count": 15,
   "metadata": {
    "collapsed": false
   },
   "outputs": [
    {
     "name": "stdout",
     "output_type": "stream",
     "text": [
      "2019-04-13\n"
     ]
    }
   ],
   "source": [
    "d=dt.date(2019,4,13)\n",
    "print(d)"
   ]
  },
  {
   "cell_type": "code",
   "execution_count": null,
   "metadata": {
    "collapsed": true
   },
   "outputs": [],
   "source": []
  },
  {
   "cell_type": "code",
   "execution_count": 16,
   "metadata": {
    "collapsed": false
   },
   "outputs": [
    {
     "name": "stdout",
     "output_type": "stream",
     "text": [
      "Current year 2019\n",
      "Current month 2\n",
      "Current day 25\n"
     ]
    }
   ],
   "source": [
    "t=dt.date.today()\n",
    "print(\"Current year\",t.year)\n",
    "print(\"Current month\",t.month)\n",
    "print(\"Current day\",t.day)"
   ]
  },
  {
   "cell_type": "code",
   "execution_count": null,
   "metadata": {
    "collapsed": true
   },
   "outputs": [],
   "source": []
  },
  {
   "cell_type": "markdown",
   "metadata": {},
   "source": [
    "#### timestamp\n",
    "\n",
    "- A Unix timestamp is number of seconds between a particular date and January 1, 1970 at UTC"
   ]
  },
  {
   "cell_type": "code",
   "execution_count": 32,
   "metadata": {
    "collapsed": false
   },
   "outputs": [
    {
     "name": "stdout",
     "output_type": "stream",
     "text": [
      "Date=  2019-02-12\n"
     ]
    }
   ],
   "source": [
    "timestamp=datetime.date.fromtimestamp(1549990000)\n",
    "print(\"Date= \",timestamp)"
   ]
  },
  {
   "cell_type": "code",
   "execution_count": null,
   "metadata": {
    "collapsed": true
   },
   "outputs": [],
   "source": []
  },
  {
   "cell_type": "markdown",
   "metadata": {},
   "source": [
    "#### datetime.time class"
   ]
  },
  {
   "cell_type": "code",
   "execution_count": 33,
   "metadata": {
    "collapsed": true
   },
   "outputs": [],
   "source": [
    "from datetime import time"
   ]
  },
  {
   "cell_type": "code",
   "execution_count": 34,
   "metadata": {
    "collapsed": false
   },
   "outputs": [
    {
     "name": "stdout",
     "output_type": "stream",
     "text": [
      "a 00:00:00\n"
     ]
    }
   ],
   "source": [
    "#time(hour=0, minute=0,second=0)\n",
    "\n",
    "a=time()\n",
    "print(\"a\",a)"
   ]
  },
  {
   "cell_type": "code",
   "execution_count": 39,
   "metadata": {
    "collapsed": false
   },
   "outputs": [
    {
     "name": "stdout",
     "output_type": "stream",
     "text": [
      "a 11:34:36\n"
     ]
    }
   ],
   "source": [
    "#time(hour, minute,second)\n",
    "\n",
    "a=time(11,34,36)\n",
    "print(\"a\",a)"
   ]
  },
  {
   "cell_type": "code",
   "execution_count": 35,
   "metadata": {
    "collapsed": false
   },
   "outputs": [
    {
     "name": "stdout",
     "output_type": "stream",
     "text": [
      "b 11:34:56\n"
     ]
    }
   ],
   "source": [
    "# time(hour,minute,second)\n",
    "\n",
    "b=time(11,34,56)\n",
    "print(\"b\",b)"
   ]
  },
  {
   "cell_type": "code",
   "execution_count": 37,
   "metadata": {
    "collapsed": false
   },
   "outputs": [
    {
     "name": "stdout",
     "output_type": "stream",
     "text": [
      "b 11:34:56.450000\n"
     ]
    }
   ],
   "source": [
    "# time(hour,minute,second, microsecond)\n",
    "\n",
    "b=time(11,34,56,450000)\n",
    "print(\"b\",b)"
   ]
  },
  {
   "cell_type": "code",
   "execution_count": null,
   "metadata": {
    "collapsed": true
   },
   "outputs": [],
   "source": []
  },
  {
   "cell_type": "markdown",
   "metadata": {},
   "source": [
    "#### datetime.time class"
   ]
  },
  {
   "cell_type": "code",
   "execution_count": 42,
   "metadata": {
    "collapsed": false
   },
   "outputs": [
    {
     "name": "stdout",
     "output_type": "stream",
     "text": [
      "Hour 11\n",
      "Minute 34\n",
      "Second 56\n",
      "Microsecond 450000\n"
     ]
    }
   ],
   "source": [
    "# time(hour,minute,second, microsecond)\n",
    "\n",
    "a=time(11,34,56,450000)\n",
    "\n",
    "print(\"Hour\",a.hour)\n",
    "print(\"Minute\",a.minute)\n",
    "print(\"Second\",a.second)\n",
    "print(\"Microsecond\",a.microsecond)"
   ]
  },
  {
   "cell_type": "code",
   "execution_count": null,
   "metadata": {
    "collapsed": true
   },
   "outputs": [],
   "source": []
  },
  {
   "cell_type": "markdown",
   "metadata": {},
   "source": [
    "#### datetime.datetime class\n",
    "- Info about both date and time objects"
   ]
  },
  {
   "cell_type": "code",
   "execution_count": 44,
   "metadata": {
    "collapsed": false
   },
   "outputs": [],
   "source": [
    "from datetime import datetime"
   ]
  },
  {
   "cell_type": "code",
   "execution_count": 49,
   "metadata": {
    "collapsed": false
   },
   "outputs": [
    {
     "name": "stdout",
     "output_type": "stream",
     "text": [
      "2019-12-05 00:00:00\n"
     ]
    }
   ],
   "source": [
    "#datetime(year,month,day)\n",
    "a=datetime(2019,12,5)\n",
    "print(a)"
   ]
  },
  {
   "cell_type": "code",
   "execution_count": null,
   "metadata": {
    "collapsed": true
   },
   "outputs": [],
   "source": []
  },
  {
   "cell_type": "code",
   "execution_count": 51,
   "metadata": {
    "collapsed": false
   },
   "outputs": [
    {
     "name": "stdout",
     "output_type": "stream",
     "text": [
      "2019-12-05 11:34:56.450000\n"
     ]
    }
   ],
   "source": [
    "#datetime(year,month,day,hour,minute,second, microsecond)\n",
    "b=datetime(2019,12,5,11,34,56,450000)\n",
    "print(b)"
   ]
  },
  {
   "cell_type": "code",
   "execution_count": 52,
   "metadata": {
    "collapsed": false
   },
   "outputs": [
    {
     "name": "stdout",
     "output_type": "stream",
     "text": [
      "Current year 2019\n",
      "Current month 12\n",
      "Current day 5\n",
      "Hour 11\n",
      "Minute 34\n",
      "Second 56\n",
      "Microsecond 450000\n"
     ]
    }
   ],
   "source": [
    "a=datetime(2019,12,5,11,34,56,450000)\n",
    "\n",
    "print(\"Current year\",a.year)\n",
    "print(\"Current month\",a.month)\n",
    "print(\"Current day\",a.day)\n",
    "\n",
    "print(\"Hour\",a.hour)\n",
    "print(\"Minute\",a.minute)\n",
    "print(\"Second\",a.second)\n",
    "print(\"Microsecond\",a.microsecond)"
   ]
  },
  {
   "cell_type": "code",
   "execution_count": null,
   "metadata": {
    "collapsed": true
   },
   "outputs": [],
   "source": []
  },
  {
   "cell_type": "markdown",
   "metadata": {},
   "source": [
    "#### datetime.timedelta class\n",
    "- timedelta object represents Difference between 2 dates or times\n"
   ]
  },
  {
   "cell_type": "code",
   "execution_count": 68,
   "metadata": {
    "collapsed": true
   },
   "outputs": [],
   "source": [
    "from datetime import datetime,date,time"
   ]
  },
  {
   "cell_type": "code",
   "execution_count": 59,
   "metadata": {
    "collapsed": false
   },
   "outputs": [
    {
     "name": "stdout",
     "output_type": "stream",
     "text": [
      "-6974 days, 0:00:00\n",
      "<class 'datetime.timedelta'>\n"
     ]
    }
   ],
   "source": [
    "t1=date(year=2019,month=2,day=25)\n",
    "t2=date(year=2000,month=1,day=22)\n",
    "t3=t2-t1\n",
    "\n",
    "print(t3)\n",
    "\n",
    "print(type(t3))\n",
    "\n",
    "#Difference can be negative also"
   ]
  },
  {
   "cell_type": "code",
   "execution_count": 78,
   "metadata": {
    "collapsed": false
   },
   "outputs": [
    {
     "name": "stdout",
     "output_type": "stream",
     "text": [
      "11:34:56.450000\n",
      "01:12:56.459999\n"
     ]
    },
    {
     "ename": "TypeError",
     "evalue": "unsupported operand type(s) for -: 'datetime.time' and 'datetime.time'",
     "output_type": "error",
     "traceback": [
      "\u001b[0;31m---------------------------------------------------------------------------\u001b[0m",
      "\u001b[0;31mTypeError\u001b[0m                                 Traceback (most recent call last)",
      "\u001b[0;32m<ipython-input-78-581421ee8ee3>\u001b[0m in \u001b[0;36m<module>\u001b[0;34m()\u001b[0m\n\u001b[1;32m      3\u001b[0m \u001b[0mprint\u001b[0m\u001b[1;33m(\u001b[0m\u001b[0mt4\u001b[0m\u001b[1;33m)\u001b[0m\u001b[1;33m\u001b[0m\u001b[0m\n\u001b[1;32m      4\u001b[0m \u001b[0mprint\u001b[0m\u001b[1;33m(\u001b[0m\u001b[0mt5\u001b[0m\u001b[1;33m)\u001b[0m\u001b[1;33m\u001b[0m\u001b[0m\n\u001b[0;32m----> 5\u001b[0;31m \u001b[0mt6\u001b[0m\u001b[1;33m=\u001b[0m\u001b[0mt4\u001b[0m\u001b[1;33m-\u001b[0m\u001b[0mt5\u001b[0m\u001b[1;33m\u001b[0m\u001b[0m\n\u001b[0m\u001b[1;32m      6\u001b[0m \u001b[1;33m\u001b[0m\u001b[0m\n\u001b[1;32m      7\u001b[0m \u001b[0mprint\u001b[0m\u001b[1;33m(\u001b[0m\u001b[0mt6\u001b[0m\u001b[1;33m)\u001b[0m\u001b[1;33m\u001b[0m\u001b[0m\n",
      "\u001b[0;31mTypeError\u001b[0m: unsupported operand type(s) for -: 'datetime.time' and 'datetime.time'"
     ]
    }
   ],
   "source": [
    "t4=time(hour=11,minute=34,second=56,microsecond=450000)\n",
    "t5=time(hour=1,minute=12,second=56,microsecond=459999)\n",
    "print(t4)\n",
    "print(t5)\n",
    "t6=t4-t5\n",
    "\n",
    "print(t6)\n",
    "\n",
    "print(type(t6))\n",
    "\n",
    "#Operation doesnt work on time datatype"
   ]
  },
  {
   "cell_type": "code",
   "execution_count": null,
   "metadata": {
    "collapsed": true
   },
   "outputs": [],
   "source": []
  },
  {
   "cell_type": "code",
   "execution_count": 71,
   "metadata": {
    "collapsed": false
   },
   "outputs": [
    {
     "ename": "SyntaxError",
     "evalue": "invalid syntax (<ipython-input-71-440c85c3022c>, line 1)",
     "output_type": "error",
     "traceback": [
      "\u001b[0;36m  File \u001b[0;32m\"<ipython-input-71-440c85c3022c>\"\u001b[0;36m, line \u001b[0;32m1\u001b[0m\n\u001b[0;31m    from datetime\u001b[0m\n\u001b[0m                 ^\u001b[0m\n\u001b[0;31mSyntaxError\u001b[0m\u001b[0;31m:\u001b[0m invalid syntax\n"
     ]
    }
   ],
   "source": [
    "from datetime"
   ]
  },
  {
   "cell_type": "code",
   "execution_count": null,
   "metadata": {
    "collapsed": false
   },
   "outputs": [],
   "source": []
  },
  {
   "cell_type": "code",
   "execution_count": 85,
   "metadata": {
    "collapsed": false
   },
   "outputs": [
    {
     "name": "stdout",
     "output_type": "stream",
     "text": [
      "-1 day, 23:59:30\n",
      "<class 'datetime.timedelta'>\n"
     ]
    }
   ],
   "source": [
    "# timedelta\n",
    "\n",
    "t1=dt.timedelta(seconds=40)\n",
    "t2=dt.timedelta(seconds=10)\n",
    "\n",
    "t3=t2-t1\n",
    "\n",
    "print(t3)\n",
    "\n",
    "print(type(t3))"
   ]
  },
  {
   "cell_type": "code",
   "execution_count": null,
   "metadata": {
    "collapsed": true
   },
   "outputs": [],
   "source": []
  },
  {
   "cell_type": "markdown",
   "metadata": {},
   "source": [
    "#### Python strftime() - Datetime Object to String"
   ]
  },
  {
   "cell_type": "code",
   "execution_count": 86,
   "metadata": {
    "collapsed": true
   },
   "outputs": [],
   "source": [
    "from datetime import datetime"
   ]
  },
  {
   "cell_type": "code",
   "execution_count": 90,
   "metadata": {
    "collapsed": false
   },
   "outputs": [
    {
     "name": "stdout",
     "output_type": "stream",
     "text": [
      "time: 17:00:36\n"
     ]
    }
   ],
   "source": [
    "#current date and time\n",
    "n=datetime.now()\n",
    "\n",
    "t=n.strftime(\"%H:%M:%S\")\n",
    "\n",
    "print(\"time:\",t)"
   ]
  },
  {
   "cell_type": "code",
   "execution_count": null,
   "metadata": {
    "collapsed": true
   },
   "outputs": [],
   "source": []
  },
  {
   "cell_type": "code",
   "execution_count": 100,
   "metadata": {
    "collapsed": false
   },
   "outputs": [
    {
     "name": "stdout",
     "output_type": "stream",
     "text": [
      "s1: 25-02-19,17:00:36\n"
     ]
    }
   ],
   "source": [
    "s1=n.strftime(\"%d-%m-%y,%H:%M:%S\")\n",
    "\n",
    "# dd/mm/YY H:M:S format\n",
    "\n",
    "print(\"s1:\",s1)\n",
    "\n"
   ]
  },
  {
   "cell_type": "markdown",
   "metadata": {},
   "source": [
    "### Refer Formatting from http://strftime.org/"
   ]
  },
  {
   "cell_type": "code",
   "execution_count": null,
   "metadata": {
    "collapsed": true
   },
   "outputs": [],
   "source": []
  },
  {
   "cell_type": "code",
   "execution_count": null,
   "metadata": {
    "collapsed": true
   },
   "outputs": [],
   "source": []
  },
  {
   "cell_type": "markdown",
   "metadata": {},
   "source": [
    "#### Python strptime() - String to datetime \n",
    "- Can be used while reading csv file"
   ]
  },
  {
   "cell_type": "code",
   "execution_count": 107,
   "metadata": {
    "collapsed": false
   },
   "outputs": [
    {
     "name": "stdout",
     "output_type": "stream",
     "text": [
      "date_string= 21 June,2018\n",
      "date_object= 2019-02-25\n"
     ]
    }
   ],
   "source": [
    "from datetime import datetime\n",
    "\n",
    "date_string=\"21 June,2018\"\n",
    "print(\"date_string=\",date_string)\n",
    "\n",
    "data_object=datetime.strptime(date_string,\"%d %B,%Y\")\n",
    "\n",
    "#Note spaces are important\n",
    "#\"%d%B,%Y\" will give error, i.e. no space after %d will result into error\n",
    "\n",
    "print(\"date_object=\",date_object)"
   ]
  },
  {
   "cell_type": "code",
   "execution_count": null,
   "metadata": {
    "collapsed": true
   },
   "outputs": [],
   "source": []
  },
  {
   "cell_type": "markdown",
   "metadata": {},
   "source": [
    "#### Time Zone handling"
   ]
  },
  {
   "cell_type": "code",
   "execution_count": 108,
   "metadata": {
    "collapsed": true
   },
   "outputs": [],
   "source": [
    "from datetime import datetime\n",
    "import pytz"
   ]
  },
  {
   "cell_type": "code",
   "execution_count": 109,
   "metadata": {
    "collapsed": false
   },
   "outputs": [
    {
     "name": "stdout",
     "output_type": "stream",
     "text": [
      "2019-02-25 17:11:12.116883\n"
     ]
    }
   ],
   "source": [
    "local=datetime.now()\n",
    "print(local)"
   ]
  },
  {
   "cell_type": "code",
   "execution_count": 111,
   "metadata": {
    "collapsed": false
   },
   "outputs": [
    {
     "name": "stdout",
     "output_type": "stream",
     "text": [
      "NY: 2019-02-25 06:42:52.478955-05:00\n"
     ]
    }
   ],
   "source": [
    "tz_ny=pytz.timezone('America/New_York')\n",
    "dt_ny=datetime.now(tz_ny)\n",
    "\n",
    "print(\"NY:\",dt_ny)"
   ]
  },
  {
   "cell_type": "code",
   "execution_count": 113,
   "metadata": {
    "collapsed": false
   },
   "outputs": [
    {
     "name": "stdout",
     "output_type": "stream",
     "text": [
      "IN: 2019-02-25 17:15:00.806616+05:30\n"
     ]
    }
   ],
   "source": [
    "tz_in=pytz.timezone('Asia/Kolkata')\n",
    "dt_in=datetime.now(tz_in)\n",
    "\n",
    "print(\"IN:\",dt_in)"
   ]
  },
  {
   "cell_type": "code",
   "execution_count": null,
   "metadata": {
    "collapsed": true
   },
   "outputs": [],
   "source": []
  }
 ],
 "metadata": {
  "kernelspec": {
   "display_name": "Python 3",
   "language": "python",
   "name": "python3"
  },
  "language_info": {
   "codemirror_mode": {
    "name": "ipython",
    "version": 3
   },
   "file_extension": ".py",
   "mimetype": "text/x-python",
   "name": "python",
   "nbconvert_exporter": "python",
   "pygments_lexer": "ipython3",
   "version": "3.6.0"
  }
 },
 "nbformat": 4,
 "nbformat_minor": 2
}
